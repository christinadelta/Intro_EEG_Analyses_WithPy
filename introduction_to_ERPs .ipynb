{
 "cells": [
  {
   "cell_type": "markdown",
   "metadata": {},
   "source": [
    "## The Dataset\n",
    "\n",
    "EEG data sampled at 500Hz in 1000 trials of two conditions. "
   ]
  },
  {
   "cell_type": "code",
   "execution_count": null,
   "metadata": {},
   "outputs": [],
   "source": [
    "# load libraries\n",
    "import os\n",
    "import scipy as sp\n",
    "import numpy as np\n",
    "from numpy import sqrt\n",
    "from scipy.io import loadmat\n",
    "import matplotlib.pyplot as plt\n",
    "\n",
    "%matplotlib inline "
   ]
  },
  {
   "cell_type": "markdown",
   "metadata": {},
   "source": [
    "Load the data that we will work on. The data contains two mat files. The first file is a 1000 by 1000 matrix that corresponds to the two conditions ```(trials x time)```. That means, the first 500 columns (time points) belong to the 1st condition and the last 500 columns (time points) belong to the second condition. The second file is a 1 by 500 matrix that corresponds to the time axis. "
   ]
  },
  {
   "cell_type": "code",
   "execution_count": null,
   "metadata": {},
   "outputs": [],
   "source": [
    "# Define paths:\n",
    "root_dir = '/Users/christinadelta/Desktop/intro_to_eeg_analyses/'\n",
    "mat_dir = os.path.join(root_dir, 'data', 'my_matfiles')"
   ]
  },
  {
   "cell_type": "code",
   "execution_count": null,
   "metadata": {},
   "outputs": [],
   "source": [
    "# define file-specific paths:\n",
    "eegcond_dir = os.path.join(mat_dir, 'eeg_allcond.mat') # path for the eeg data file\n",
    "eegtimes_dir = os.path.join(mat_dir, 'eeg_times.mat')  # path for the time-points file\n",
    "\n",
    "# load the data files using the scipy.io.loadmat() function \n",
    "eeg_conditions = loadmat(eegcond_dir)['eeg_allcond'] # a 1000 x 1000 .m file\n",
    "eeg_times = loadmat(eegtimes_dir)['eeg_times'][0] # a 1 x 500 .m file\n",
    "\n",
    "# look at the data\n",
    "print(eeg_conditions.shape)\n",
    "print(eeg_times.shape)"
   ]
  },
  {
   "cell_type": "markdown",
   "metadata": {},
   "source": [
    "The ```eeg_conditions``` file contains both conditions in a 1000 by 1000 matrix:\n",
    "* columns 1:500 belong to condition A\n",
    "* columns 501:1000 belong to condition B\n",
    "\n",
    "Note that the ```eeg_times``` matrix corresponds to the recording of one second. It will be more clear when we plot it. \n",
    "\n",
    "Split the matrix in two different matrices. One containing the eeg condition A and the other containing the eeg condition B:"
   ]
  },
  {
   "cell_type": "code",
   "execution_count": null,
   "metadata": {},
   "outputs": [],
   "source": [
    "eeg_a = eeg_conditions[:,0:500] # the eeg data for condition one\n",
    "eeg_b = eeg_conditions[:,500:1000] # the eeg data for condition 2\n",
    "\n",
    "# look at their shape. If they are both: 1000 x 500 then everything is alright\n",
    "eeg_a.shape\n",
    "eeg_b.shape"
   ]
  },
  {
   "cell_type": "markdown",
   "metadata": {},
   "source": [
    "The rows of the matrices correspond to the 1000 trials of this dataset. Let's compute the mean and SD of the signal across trials. For the sake of this example, we will only compute the descriptes for condition one:"
   ]
  },
  {
   "cell_type": "code",
   "execution_count": null,
   "metadata": {},
   "outputs": [],
   "source": [
    "# compute the average ERP \n",
    "trials = len(eeg_a)\n",
    "mean_a = eeg_a.mean(0) # we added zero in parentheses to specify that we compute mean across x-axis/rows/trials\n",
    "sd_a = eeg_a.std(0) # compute the sd across trials\n",
    "se_a = sd_a / sqrt(trials) # compute standard error of the mean"
   ]
  },
  {
   "cell_type": "markdown",
   "metadata": {},
   "source": [
    "Great! We computed the ERP for condition A. Now let's visualise. Plot the ERP for condition A and include confidence intervals (CI) as shade around the signal:"
   ]
  },
  {
   "cell_type": "code",
   "execution_count": null,
   "metadata": {},
   "outputs": [],
   "source": [
    "plt.plot(eeg_times, mean_a, 'k', lw=3) # ERP\n",
    "plt.plot(eeg_times, mean_a + 2 * se_a, 'k:', lw=1) # upper CI\n",
    "plt.plot(eeg_times, mean_a - 2 * se_a, 'k:', lw=1) # lower CI\n",
    "plt.xlabel('Time in seconds')\n",
    "plt.ylabel('voltage [$\\mu$ v]')\n",
    "plt.title('ERP of condition A')\n",
    "plt.show()\n",
    "\n",
    "# and save the plot:\n",
    "save_file = os.path.join(root_dir, 'figures', f'ERP_condA.png')\n",
    "plt.savefig(save_file, facecolor='w', edgecolor='w')"
   ]
  },
  {
   "cell_type": "markdown",
   "metadata": {},
   "source": [
    "### The EEG signal \n",
    "\n",
    "The voltage recording that comes from the scalp's surface (electroencephalogram) provides very useful information abou the temporal dynamics of neural activity, at the level of milliseconds. One of the main reasons we run EEG analyses is to investigate the **neural oscillations** or **rhythmic activity** whci is observed in different frequencies: \n",
    "\n",
    "* **Delta activity is observed at 1-4Hz** and is  linked to a broad variety of perceptual, sensorimotor, and cognitive operations.  Delta rhythms are very commonly associated with the deep stage 3 of NREM sleep, also known as slow-wave sleep (SWS), and aid in characterizing the depth of sleep.\n",
    "* **Theta activity is observed at 5-8Hz** and underlies various aspects of cognition and behavior, including learning, memory, and spatial navigation in many animals. There are two types of theta activity: *the hippocampal theta rhythm*, a strong oscillation that can be observed in the hippocampus and other brain structures and the *cortical theta rhythm*, low-frequency components of scalp EEG, usually recorded from humans. \n",
    "* **Alpha activity is observed at 8-12Hz**, likely originating from the synchronous and coherent (in phase or constructive) electrical activity of thalamic pacemaker cells in humans. Alpha activity is the most studied one and is thought to have at least two different forms, which may have different functions in the wake-sleep cycle:  \n",
    "    * The most widely researched is during the relaxed mental state, where the subject is at rest with eyes closed, but is not tired or asleep. This alpha activity is centered in the occipital lobe, although there has been speculation that it has a thalamic origin.\n",
    "    * The second form of alpha wave activity is during REM sleep. As opposed to the awake form of alpha activity, this form is located in a frontal-central location in the brain. The purpose of alpha activity during REM sleep is not yet fully understood. Currently, there are arguments that alpha patterns are a normal part of REM sleep, and for the notion that it indicates a semi-arousal period.\n",
    "* **Beta activity is observed at 13-30Hz**, they are associated with normal waking consciousness and can be split into three sections:\n",
    "    * Low Beta Waves (12.5–16 Hz) or **Beta 1 power**\n",
    "    * Beta Waves (16.5–20 Hz) or **Beta 2 power**\n",
    "    * High Beta Waves (20.5–29 Hz) or **Beta 3 power**\n",
    "* **Gamma activity is observed at 30-200Hz**. In humans, a gamma Rhythm is a pattern of neural oscillation with a frequency between 25 and 140 Hz, with the 40-Hz point being of particular interest. Gamma rhythms are correlated with large scale brain network activity and cognitive phenomena such as working memory, attention, and perceptual grouping.\n",
    "\n",
    "### Now back to the dataset:\n",
    "\n",
    "we can use the ```whos``` command to get more information about our variables \n",
    "\n",
    "In the experiments of this EEG recording participants were presented with two squares of different colour. The were asked to press space whenever the square was red and do nothing when the square was green. Note that the colour/response correspondence was counterbalanced across participants. \n",
    "\n",
    "Here, condition A corresponds to the **response emitted** trials and condition B corresponds to the **response omitted** trials.\n",
    "\n",
    "The dataset contains 1000 trials (rows of the matrices) for each condition at 500 time points (columns of the matrices). \n",
    "\n"
   ]
  },
  {
   "cell_type": "code",
   "execution_count": null,
   "metadata": {},
   "outputs": [],
   "source": [
    "whos"
   ]
  },
  {
   "cell_type": "markdown",
   "metadata": {},
   "source": [
    "To look at the total number of trials we can either use the ```.shape``` function or the ```len()``` function"
   ]
  },
  {
   "cell_type": "code",
   "execution_count": null,
   "metadata": {},
   "outputs": [],
   "source": [
    "# the len function\n",
    "nb_trials = len(eeg_a) \n",
    "print(nb_trials)\n",
    "\n",
    "# or \n",
    "# the shape function\n",
    "nb_trials = eeg_a.shape[0]\n",
    "print(nb_trials)"
   ]
  },
  {
   "cell_type": "markdown",
   "metadata": {},
   "source": [
    "The shape function of an array returns a tuple with the size of each dimension. By adding [0] we explicitely ask for the rows dimension, that is the first value of the tuple. \n",
    "\n",
    "Another useful property of python is that we can assign two variables at once:"
   ]
  },
  {
   "cell_type": "code",
   "execution_count": null,
   "metadata": {},
   "outputs": [],
   "source": [
    "nb_trials, nb_tps = eeg_a.shape\n",
    "print(nb_trials, nb_tps)"
   ]
  },
  {
   "cell_type": "markdown",
   "metadata": {},
   "source": [
    "Do you understand why? If not, look [here](https://note.nkmk.me/en/python-tuple-list-unpack/) for a clear explanation "
   ]
  },
  {
   "cell_type": "code",
   "execution_count": null,
   "metadata": {},
   "outputs": [],
   "source": []
  }
 ],
 "metadata": {
  "kernelspec": {
   "display_name": "Python 3",
   "language": "python",
   "name": "python3"
  },
  "language_info": {
   "codemirror_mode": {
    "name": "ipython",
    "version": 3
   },
   "file_extension": ".py",
   "mimetype": "text/x-python",
   "name": "python",
   "nbconvert_exporter": "python",
   "pygments_lexer": "ipython3",
   "version": "3.7.7"
  }
 },
 "nbformat": 4,
 "nbformat_minor": 4
}
