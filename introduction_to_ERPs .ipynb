{
 "cells": [
  {
   "cell_type": "markdown",
   "metadata": {},
   "source": [
    "## The Dataset\n",
    "\n",
    "EEG data sampled at 500Hz in 1000 trials of two conditions. "
   ]
  },
  {
   "cell_type": "code",
   "execution_count": null,
   "metadata": {},
   "outputs": [],
   "source": [
    "# load libraries\n",
    "import os\n",
    "import scipy as sp\n",
    "import numpy as np\n",
    "from numpy import sqrt\n",
    "from scipy.io import loadmat\n",
    "import matplotlib.pyplot as plt\n",
    "\n",
    "%matplotlib inline "
   ]
  },
  {
   "cell_type": "markdown",
   "metadata": {},
   "source": [
    "Load the data that we will work on. The data contains two mat files. The first file is a 1000 by 1000 matrix that corresponds to the two conditions ```(trials x time)```. That means, the first 500 columns (time points) belong to the 1st condition and the last 500 columns (time points) belong to the second condition. The second file is a 1 by 500 matrix that corresponds to the time axis. "
   ]
  },
  {
   "cell_type": "code",
   "execution_count": null,
   "metadata": {},
   "outputs": [],
   "source": [
    "# Define paths:\n",
    "root_dir = '/Users/christinadelta/Desktop/intro_to_eeg_analyses/'\n",
    "mat_dir = os.path.join(root_dir, 'data', 'my_matfiles')"
   ]
  },
  {
   "cell_type": "code",
   "execution_count": null,
   "metadata": {},
   "outputs": [],
   "source": [
    "# define file-specific paths:\n",
    "eegcond_dir = os.path.join(mat_dir, 'eeg_allcond.mat') # path for the eeg data file\n",
    "eegtimes_dir = os.path.join(mat_dir, 'eeg_times.mat')  # path for the time-points file\n",
    "\n",
    "# load the data files using the scipy.io.loadmat() function \n",
    "eeg_conditions = loadmat(eegcond_dir)['eeg_allcond'] # a 1000 x 1000 .m file\n",
    "eeg_times = loadmat(eegtimes_dir)['eeg_times'][0] # a 1 x 500 .m file\n",
    "\n",
    "# look at the data\n",
    "print(eeg_conditions.shape)\n",
    "print(eeg_times.shape)"
   ]
  },
  {
   "cell_type": "markdown",
   "metadata": {},
   "source": [
    "The ```eeg_conditions``` file contains both conditions in a 1000 by 1000 matrix:\n",
    "* columns 1:500 belong to condition A\n",
    "* columns 501:1000 belong to condition B\n",
    "\n",
    "Note that the ```eeg_times``` matrix corresponds to the recording of one second. It will be more clear when we plot it. \n",
    "\n",
    "Split the matrix in two different matrices. One containing the eeg condition A and the other containing the eeg condition B:"
   ]
  },
  {
   "cell_type": "code",
   "execution_count": null,
   "metadata": {},
   "outputs": [],
   "source": [
    "eeg_a = eeg_conditions[:,0:500] # the eeg data for condition one\n",
    "eeg_b = eeg_conditions[:,500:1000] # the eeg data for condition 2\n",
    "\n",
    "# look at their shape. If they are both: 1000 x 500 then everything is alright\n",
    "eeg_a.shape\n",
    "eeg_b.shape"
   ]
  },
  {
   "cell_type": "markdown",
   "metadata": {},
   "source": [
    "The rows of the matrices correspond to the 1000 trials of this dataset. Let's compute the mean and SD of the signal across trials. For the sake of this example, we will only compute the descriptes for condition one:"
   ]
  },
  {
   "cell_type": "code",
   "execution_count": null,
   "metadata": {},
   "outputs": [],
   "source": [
    "# compute the average ERP \n",
    "trials = len(eeg_a)\n",
    "eegA_mean = eeg_a.mean(0) # we added zero in parentheses to specify that we compute mean across x-axis/rows/trials\n",
    "eegA_sd = eeg_a.std(0) # compute the sd across trials\n",
    "sem = eegA_sd / sqrt(trials) # compute standard error of the mean"
   ]
  },
  {
   "cell_type": "markdown",
   "metadata": {},
   "source": [
    "Great! We computed the ERP for condition A. Now let's visualise. Plot the ERP for condition A and include confidence intervals (CI) as shade around the signal:"
   ]
  },
  {
   "cell_type": "code",
   "execution_count": null,
   "metadata": {},
   "outputs": [],
   "source": [
    "plt.plot(eeg_times, eegA_mean, 'k', lw=3) # ERP\n",
    "plt.plot(eeg_times, eegA_mean + 2 * sem, 'k:', lw=1) # upper CI\n",
    "plt.plot(eeg_times, eegA_mean - 2 * sem, 'k:', lw=1) # lower CI\n",
    "plt.xlabel('Time in seconds')\n",
    "plt.ylabel('voltage [$\\mu$ v]')\n",
    "plt.title('Averaged ERP of condition A')\n",
    "plt.show()\n",
    "\n",
    "# and save the plot:\n",
    "save_file = os.path.join(root_dir, 'figures', f'ERP_condA.png')\n",
    "plt.savefig(save_file, facecolor='w', edgecolor='w')"
   ]
  },
  {
   "cell_type": "markdown",
   "metadata": {},
   "source": [
    "### The EEG signal \n",
    "\n",
    "The voltage recording that comes from the scalp's surface (electroencephalogram) provides very useful information abou the temporal dynamics of neural activity, at the level of milliseconds. One of the main reasons we run EEG analyses is to investigate the **neural oscillations** or **rhythmic activity** whci is observed in different frequencies: \n",
    "\n",
    "* **Delta activity is observed at 1-4Hz** and is  linked to a broad variety of perceptual, sensorimotor, and cognitive operations.  Delta rhythms are very commonly associated with the deep stage 3 of NREM sleep, also known as slow-wave sleep (SWS), and aid in characterizing the depth of sleep.\n",
    "* **Theta activity is observed at 5-8Hz** and underlies various aspects of cognition and behavior, including learning, memory, and spatial navigation in many animals. There are two types of theta activity: *the hippocampal theta rhythm*, a strong oscillation that can be observed in the hippocampus and other brain structures and the *cortical theta rhythm*, low-frequency components of scalp EEG, usually recorded from humans. \n",
    "* **Alpha activity is observed at 8-12Hz**, likely originating from the synchronous and coherent (in phase or constructive) electrical activity of thalamic pacemaker cells in humans. Alpha activity is the most studied one and is thought to have at least two different forms, which may have different functions in the wake-sleep cycle:  \n",
    "    * The most widely researched is during the relaxed mental state, where the subject is at rest with eyes closed, but is not tired or asleep. This alpha activity is centered in the occipital lobe, although there has been speculation that it has a thalamic origin.\n",
    "    * The second form of alpha wave activity is during REM sleep. As opposed to the awake form of alpha activity, this form is located in a frontal-central location in the brain. The purpose of alpha activity during REM sleep is not yet fully understood. Currently, there are arguments that alpha patterns are a normal part of REM sleep, and for the notion that it indicates a semi-arousal period.\n",
    "* **Beta activity is observed at 13-30Hz**, they are associated with normal waking consciousness and can be split into three sections:\n",
    "    * Low Beta Waves (12.5–16 Hz) or **Beta 1 power**\n",
    "    * Beta Waves (16.5–20 Hz) or **Beta 2 power**\n",
    "    * High Beta Waves (20.5–29 Hz) or **Beta 3 power**\n",
    "* **Gamma activity is observed at 30-200Hz**. In humans, a gamma Rhythm is a pattern of neural oscillation with a frequency between 25 and 140 Hz, with the 40-Hz point being of particular interest. Gamma rhythms are correlated with large scale brain network activity and cognitive phenomena such as working memory, attention, and perceptual grouping.\n",
    "\n",
    "### Now back to the dataset:\n",
    "\n",
    "we can use the ```whos``` command to get more information about our variables \n",
    "\n",
    "In the experiments of this EEG recording participants were presented with two squares of different colour. The were asked to press space whenever the square was red and do nothing when the square was green. Note that the colour/response correspondence was counterbalanced across participants. \n",
    "\n",
    "Here, condition A corresponds to the **response emitted** trials and condition B corresponds to the **response omitted** trials.\n",
    "\n",
    "The dataset contains 1000 trials (rows of the matrices) for each condition at 500 time points (columns of the matrices). \n",
    "\n"
   ]
  },
  {
   "cell_type": "code",
   "execution_count": null,
   "metadata": {},
   "outputs": [],
   "source": [
    "whos"
   ]
  },
  {
   "cell_type": "markdown",
   "metadata": {},
   "source": [
    "To look at the total number of trials we can either use the ```.shape``` function or the ```len()``` function"
   ]
  },
  {
   "cell_type": "code",
   "execution_count": null,
   "metadata": {},
   "outputs": [],
   "source": [
    "# the len function\n",
    "nb_trials = len(eeg_a) \n",
    "print(nb_trials)\n",
    "\n",
    "# or \n",
    "# the shape function\n",
    "nb_trials = eeg_a.shape[0]\n",
    "print(nb_trials)"
   ]
  },
  {
   "cell_type": "markdown",
   "metadata": {},
   "source": [
    "The shape function of an array returns a tuple with the size of each dimension. By adding [0] we explicitely ask for the rows dimension, that is the first value of the tuple. \n",
    "\n",
    "Another useful property of python is that we can assign two variables at once:"
   ]
  },
  {
   "cell_type": "code",
   "execution_count": null,
   "metadata": {},
   "outputs": [],
   "source": [
    "nb_trials, nb_tps = eeg_a.shape\n",
    "print(nb_trials, nb_tps)"
   ]
  },
  {
   "cell_type": "markdown",
   "metadata": {},
   "source": [
    "Do you understand why? If not, look [here](https://note.nkmk.me/en/python-tuple-list-unpack/) for a clear explanation. \n",
    "\n",
    "## Visual inspection of the data\n",
    "\n",
    "As a first step before plotting and visually inspecting the signal we can check the values and look at the ranges of volatge. For example, let's take a look at the first few time-points of the first trial of condition A:"
   ]
  },
  {
   "cell_type": "code",
   "execution_count": null,
   "metadata": {},
   "outputs": [],
   "source": [
    "eeg_a[0,0:30]"
   ]
  },
  {
   "cell_type": "markdown",
   "metadata": {},
   "source": [
    "This type of inspection does not provide us any useful information about the behaviour of the data, so, normally, an experienced researcher would not really inspect the data this way. However, given that this is a beginner's introductory tutorial, taking a look at ranges of voltages throughout a trial is actually a good starting point. Here, we see values that range from -2.7 to 1.6. We also see flactuations in these values (both positive and negative). \n",
    "\n",
    "A plot would give us more information abou the data, so let's print the first trial:"
   ]
  },
  {
   "cell_type": "code",
   "execution_count": null,
   "metadata": {},
   "outputs": [],
   "source": [
    "plt.plot(eeg_a[0]) # we want the entire trial one \n",
    "save_file = os.path.join(root_dir, 'figures', f'plot_cond1.png')\n",
    "plt.savefig(save_file)"
   ]
  },
  {
   "cell_type": "markdown",
   "metadata": {},
   "source": [
    "The x-axis corresponds to the timepoints or the columns of the data ranging from 0-500 (500 columns). The y-axis corresponds to the voltages (all the 500 values of the first row of ```eeg_a```). Even though protting data this way is way more useful than prenting the content of the variable (as we did above), it would be better to plot the voltages as a function of time. To do so, we need to use the ```eeg_times``` variable that has 500 values. This 500 values correspond to all the time points (tps) of one trial (an entire second). Loo at the block of code below:"
   ]
  },
  {
   "cell_type": "code",
   "execution_count": null,
   "metadata": {},
   "outputs": [],
   "source": [
    "print(len(eeg_times)) # length of the time variable\n",
    "print(eeg_times[1] - eeg_times[0]) # check the sampling interval\n",
    "\n",
    "# also print..\n",
    "eeg_times[0] # the first tp\n",
    "eeg_times[-1] # the last tp"
   ]
  },
  {
   "cell_type": "markdown",
   "metadata": {},
   "source": [
    "We see that we have 500 time points that add up to **one second**. Now we can combine the two arrays (the ```eeg_times``` as the x-axis and the ```eeg_a``` as the y-axis) to plot the data."
   ]
  },
  {
   "cell_type": "code",
   "execution_count": null,
   "metadata": {},
   "outputs": [],
   "source": [
    "plt.plot(eeg_times, eeg_a[0]) # plot only the first trial of condition A\n",
    "plt.xlabel('Time in seconds')\n",
    "plt.ylabel('voltage [$\\mu$ v]')\n",
    "plt.title('EEG signal of the first trial of condition A')\n",
    "\n",
    "# let's add a vertical line that indicated where the stimulus presentation starts\n",
    "plt.plot([0.25, 0.25], [-4, 4], 'k', lw=2) # add a black line with thicknes=2\n",
    "\n",
    "# save figure\n",
    "save_file = os.path.join(root_dir, 'figures', f'plot_cond1_2.png')\n",
    "plt.savefig(save_file)"
   ]
  },
  {
   "cell_type": "markdown",
   "metadata": {},
   "source": [
    "We can make our figure even more descriptive by adding a gray half transparent rectangle at the interval of the stimulus presentation. This will make our block of code a little bit longer, and we will use more advanced ```matplotlib``` plotting commands, but play around with the code and look for more information [here](https://matplotlib.org/stable/api/_as_gen/matplotlib.axes.Axes.axhline.html)"
   ]
  },
  {
   "cell_type": "code",
   "execution_count": null,
   "metadata": {},
   "outputs": [],
   "source": [
    "fig, ax = plt.subplots()\n",
    "ax.plot(eeg_times, eeg_a[0])\n",
    "\n",
    "ax.set_title('EEG signal of the first trial of condition A', fontsize=10)\n",
    "ax.set_ylabel('voltage [$\\mu$ v]')\n",
    "ax.set_xlabel('Time in seconds')\n",
    "ax.axvspan(0.250, 0.300, facecolor='0.5', alpha=0.3)\n",
    "\n",
    "plt.xticks(size=10)\n",
    "plt.yticks(size=10)\n",
    "plt.xlabel('Time in seconds', size=10)\n",
    "plt.ylabel('voltage [$\\mu$ v]', size=10)\n",
    "plt.tight_layout()\n",
    "\n",
    "# save the file \n",
    "save_file = os.path.join(root_dir, 'figures', f'plot_cond1_3.png')\n",
    "plt.savefig(save_file)"
   ]
  },
  {
   "cell_type": "markdown",
   "metadata": {},
   "source": [
    "The plot above gives a nice and easy to read summary of the first trial of condition A. We see that the data exhibit complicated activity. We also see that the presentation of the stimulus lasts for 300ms (gray transparent rect).\n",
    "\n",
    "So far we have played around with the data from condition A. We can now plot the signal from the first trial of both conditions and compare them:"
   ]
  },
  {
   "cell_type": "code",
   "execution_count": null,
   "metadata": {},
   "outputs": [],
   "source": [
    "plt.figure(figsize=(12,3)) # resize the figure \n",
    "plt.plot(eeg_times, eeg_a[0], 'r') # plot the first trial of condition A in red\n",
    "plt.plot(eeg_times, eeg_b[0], 'b') # plot the first trial of condition B in blue\n",
    "plt.xlabel('Time in seconds')\n",
    "plt.ylabel('voltage [$\\mu$ v]')\n",
    "plt.title('EEG signal of the first trial of conditions A and B')"
   ]
  },
  {
   "cell_type": "markdown",
   "metadata": {},
   "source": [
    "Compare the voltage plots from conditions A & B from above. Are there any similarities? \n",
    "\n",
    "### Practise \n",
    "\n",
    "* The last figure we made (with signals from conditions A & B plotted together) is the simple version. Can you make a plot (with both signals in the same figure) and add a half transparent rectangle around the time interval of the stimulus presenattion? Look at how we plotted condition A for help.\n",
    "* So far we have plotted only the first trial. Try plotting more trials and look at similarities and differences between trials\n",
    "\n",
    "## Plotting the ERP \n",
    "\n",
    "Above we plotted the EEG signal of both conditions A and B (and I assume that you also plotted the signal from more trials). We noticed some features during visual inspection, such as the data is quite noisy and rhythmic. *It's really hard to discriminate between noise and signal* in single trials and to decide what it is we see in the signal through individual trials. \n",
    "What we can do is to investigate the averaged Evoked Response Potential (or ERP) by averaging all the trials first for condition A and the for condition B. We briefly saw how to do this at the beginning of this notebook, but now we will also try to **understand** what it is we are doing with the code. \n",
    "\n",
    "By averaging the (1000) trials of each condition we assume that we discard the noise and enhance the signal of the data. In detail, we assume that each trial evokes the same underlying brain process together with some unrelated to the stimulus ongoing activity (and environmental noise). But this stimulus related brain process is small, and the noise plus unrelated activity is large, thus, it is difficult to find the **process of interest** in each trial seperately. \n",
    "\n",
    "Therefore, avereging the EEG evoked responses across trials we believe to get rid of the noise and the unrelated activity and enhance the stimulus related brain process. So, here we assume that the same brain response was evoked in each trial (of each condition). \n",
    "\n",
    "Let's average the trials of condition A and look at the resulting ERP:"
   ]
  },
  {
   "cell_type": "code",
   "execution_count": null,
   "metadata": {},
   "outputs": [],
   "source": [
    "plt.plot(eeg_times, eeg_a.mean(0)) \n",
    "plt.xlabel('Time in seconds')\n",
    "plt.ylabel('voltage [$\\mu$ v]')\n",
    "plt.title('Averaged ERP of Condition A')\n",
    "\n",
    "# save the file \n",
    "save_file = os.path.join(root_dir, 'figures', f'plot_average_ERP_condA.png')\n",
    "plt.savefig(save_file)"
   ]
  },
  {
   "cell_type": "markdown",
   "metadata": {},
   "source": [
    "In the first line we computed the mean of all the trials and plot it a function of time.\n",
    "Lets's also add the interval of the stimulus presentation to this plot:"
   ]
  },
  {
   "cell_type": "code",
   "execution_count": null,
   "metadata": {},
   "outputs": [],
   "source": [
    "fig, ax = plt.subplots()\n",
    "ax.plot(eeg_times, eeg_a.mean(0))\n",
    "\n",
    "ax.set_title('EEG signal of the first trial of condition A', fontsize=10)\n",
    "ax.set_ylabel('voltage [$\\mu$ v]')\n",
    "ax.set_xlabel('Time in seconds')\n",
    "ax.axvspan(0.250, 0.300, facecolor='0.5', alpha=0.3)\n",
    "\n",
    "plt.xticks(size=10)\n",
    "plt.yticks(size=10)\n",
    "plt.xlabel('Time in seconds', size=10)\n",
    "plt.ylabel('voltage [$\\mu$ v]', size=10)\n",
    "plt.tight_layout()\n",
    "\n",
    "# save the file \n",
    "save_file = os.path.join(root_dir, 'figures', f'plot_cond1_4.png')\n",
    "plt.savefig(save_file)"
   ]
  },
  {
   "cell_type": "markdown",
   "metadata": {},
   "source": [
    "Let's also plot condition B:"
   ]
  },
  {
   "cell_type": "code",
   "execution_count": null,
   "metadata": {},
   "outputs": [],
   "source": [
    "fig, ax = plt.subplots()\n",
    "ax.plot(eeg_times, eeg_b.mean(0))\n",
    "\n",
    "ax.set_title('EEG signal of the first trial of condition B', fontsize=10)\n",
    "ax.set_ylabel('voltage [$\\mu$ v]')\n",
    "ax.set_xlabel('Time in seconds')\n",
    "ax.axvspan(0.250, 0.300, facecolor='0.5', alpha=0.3)\n",
    "\n",
    "plt.xticks(size=10)\n",
    "plt.yticks(size=10)\n",
    "plt.xlabel('Time in seconds', size=10)\n",
    "plt.ylabel('voltage [$\\mu$ v]', size=10)\n",
    "plt.tight_layout()\n",
    "\n",
    "# save the file \n",
    "save_file = os.path.join(root_dir, 'figures', f'plot_cond2_2.png')\n",
    "plt.savefig(save_file)"
   ]
  },
  {
   "cell_type": "markdown",
   "metadata": {},
   "source": [
    "Do you observe any differences? \n",
    "\n",
    "#### Let's focus on Condition A for a while:\n",
    "in Condition A we see that before stimulus presentation, the signal (voltage) flactuates around **zero**. Then immediately after stimulus onset the signal substantially goes up and down (below zero), but which of these deviations are statistically significant? We can find that out by computing confidence intervals (CI) for the ERP. \n",
    "\n",
    "## Computing Confidence Intervals (CI) \n",
    "We can compute confidence intervals using teo methods. First we will use method one and then method two.\n",
    "\n",
    "For the first method we will use the **Central Limit Theorem** which tells us that the mean of a sufficiently large number of independent random variables (each well behaved) is approximately normally distributed. \n",
    "Remember how we compute the ERP: *the mean of the EEG data across trials computed at each moment in time*. So, we make the assumption that the trials are independent; this means that what happens in one trial is not dependent to what happens in the next trial. We also assume that the EEG data are well behaved. This means that when we compute the mean and standard diviation their values are not going to be extreme but reasonable. We therefore conclude that the ERP at every trial and at each moment in time are normally distributed (for detailed information about normal distributions look [here](https://statisticsbyjim.com/basics/normal-distribution/)). \n",
    "\n",
    "The above conclusion that the ERP at each moment in time is approximatelly normally distributed has a few properties that are advantageous: \n",
    "* A **normal distribution** is specified by the mean and standard diviation \n",
    "* 95% of the values fall within approximately two standard diviationsof the mean. \n",
    "\n",
    "Thus, to construct a 95% CI for the ERP, we just need to determine the mean and standard diviation of the mean across trials at each moment in time. "
   ]
  },
  {
   "cell_type": "code",
   "execution_count": null,
   "metadata": {},
   "outputs": [],
   "source": [
    "# mean of the ERP across trials\n",
    "eegA_mean = eeg_a.mean(0) \n",
    "eegA_mean.shape"
   ]
  },
  {
   "cell_type": "markdown",
   "metadata": {},
   "source": [
    "we specify that we want to compute the mean across rows for each time point, thus, the result is an array with 500 values. To compute the mean across columns (across time) we would write: ```eeg_a.mean(1)```. Note that we could refer to the mean as **sample mean** given that we use the observed data to estimate the theoritical mean that we would see if we kept repeating the experiment"
   ]
  },
  {
   "cell_type": "code",
   "execution_count": null,
   "metadata": {},
   "outputs": [],
   "source": [
    "eegA_sd = eeg_a.std(0)"
   ]
  },
  {
   "cell_type": "markdown",
   "metadata": {},
   "source": [
    "Above we computed the standard diviation of the EEG data across trials, but this is not what we want. We want to compute the standard deviation of the mean or more formally known as **standard error of the mean**.\n",
    "\n",
    "To compute the SEM we need the standard deviation of the sample and the number of trials: $$ sem = \\frac{sd} {\\sqrt{n}}$$"
   ]
  },
  {
   "cell_type": "code",
   "execution_count": null,
   "metadata": {},
   "outputs": [],
   "source": [
    "sem = eegA_sd / sqrt(len(eeg_a))\n",
    "sem"
   ]
  },
  {
   "cell_type": "markdown",
   "metadata": {},
   "source": [
    "Now that we have the **sample mean, sd & sem** we can compute the confidence intervals: $$\\mathrm{CI} = \\bar{X} \\pm z \\times sem $$\n",
    "where $\\bar{X}$ is the sample mean and $z$ is the confidence interval value:"
   ]
  },
  {
   "cell_type": "code",
   "execution_count": null,
   "metadata": {},
   "outputs": [],
   "source": [
    "# we need to compute upper and lower CIs for +- \n",
    "upperCI = eegA_mean + 2 * sem\n",
    "lowerCI = eegA_mean - 2 * sem"
   ]
  },
  {
   "cell_type": "code",
   "execution_count": null,
   "metadata": {},
   "outputs": [],
   "source": [
    "# plot the ERP with the CIs:\n",
    "fig, ax = plt.subplots() # save the axes  for use in later cells \n",
    "\n",
    "ax.plot(eeg_times, eegA_mean, 'k', lw=3) # plot the averaged ERP\n",
    "ax.plot(eeg_times, upperCI, 'k:', lw=1) # plot upper bound of the CI\n",
    "ax.plot(eeg_times, lowerCI, 'k:', lw=1) # plot lower bound of the CI\n",
    "\n",
    "ax.set_title('Averaged ERP of condition A', fontsize=10)\n",
    "ax.set_ylabel('voltage [$\\mu$ v]')\n",
    "ax.set_xlabel('Time in seconds')\n",
    "\n",
    "plt.xticks(size=10)\n",
    "plt.yticks(size=10)\n",
    "plt.xlabel('Time in seconds', size=10)\n",
    "plt.ylabel('voltage [$\\mu$ v]', size=10)\n",
    "plt.tight_layout()\n",
    "\n",
    "# save the file \n",
    "save_file = os.path.join(root_dir, 'figures', f'plot_condA_ERP.png')\n",
    "plt.savefig(save_file)"
   ]
  },
  {
   "cell_type": "markdown",
   "metadata": {},
   "source": [
    "### Practise averaging and ploting ERPs\n",
    "\n",
    "Before continuing with the notebook, for exercise try averaging the ERP for condition B and plotting it. In detail:\n",
    "* Compute the mean, sd and sem for the ERP of condition B\n",
    "* Calculate upper and lower bounds CI for condition B\n",
    "* Plot the averaged ERP for condition B with the CIs\n",
    "\n",
    "## Comparing ERPs across conditions\n",
    "\n"
   ]
  },
  {
   "cell_type": "code",
   "execution_count": null,
   "metadata": {},
   "outputs": [],
   "source": []
  }
 ],
 "metadata": {
  "kernelspec": {
   "display_name": "Python 3",
   "language": "python",
   "name": "python3"
  },
  "language_info": {
   "codemirror_mode": {
    "name": "ipython",
    "version": 3
   },
   "file_extension": ".py",
   "mimetype": "text/x-python",
   "name": "python",
   "nbconvert_exporter": "python",
   "pygments_lexer": "ipython3",
   "version": "3.7.7"
  }
 },
 "nbformat": 4,
 "nbformat_minor": 4
}
