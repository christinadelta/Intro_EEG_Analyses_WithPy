{
 "cells": [
  {
   "cell_type": "markdown",
   "metadata": {},
   "source": [
    "## Intro to Analysis of EEG Data with Pyhton "
   ]
  },
  {
   "cell_type": "code",
   "execution_count": null,
   "metadata": {},
   "outputs": [],
   "source": [
    "# Load labriaries\n",
    "import numpy as np\n",
    "import scipy as sp\n",
    "import os\n",
    "import scipy.io as sio\n",
    "import matplotlib.pyplot as plt\n",
    "from pylab import *\n",
    "\n",
    "%matplotlib inline "
   ]
  },
  {
   "cell_type": "markdown",
   "metadata": {},
   "source": [
    "### Load data from matlab in a mat file \n",
    "\n",
    "Data coming from matlab are stored in mat files (.m extension). It is is to load such a file in python using ```scipy```  and the ```loadmat()``` function. First define some paths:"
   ]
  },
  {
   "cell_type": "code",
   "execution_count": null,
   "metadata": {},
   "outputs": [],
   "source": [
    "root_dir = '/Users/christinadelta/Desktop/intro_to_eeg_analyses/'\n",
    "mat_dir = os.path.join(root_dir, 'data', 'my_matfiles', 'myrec.mat')"
   ]
  },
  {
   "cell_type": "markdown",
   "metadata": {},
   "source": [
    "Now load the matfile:"
   ]
  },
  {
   "cell_type": "code",
   "execution_count": null,
   "metadata": {},
   "outputs": [],
   "source": [
    "matfile = sio.loadmat(mat_dir)\n",
    "print(matfile)\n",
    "type(matfile) # in what kind of file did scipy load the matlab data?"
   ]
  },
  {
   "cell_type": "markdown",
   "metadata": {},
   "source": [
    "The data was stored in a dictionary. This is like a list of different types of data. Dictionaries have keys and values. In order to see the types of the elements we have in this file we'll print the keys:"
   ]
  },
  {
   "cell_type": "code",
   "execution_count": null,
   "metadata": {},
   "outputs": [],
   "source": [
    "print(matfile.keys())"
   ]
  },
  {
   "cell_type": "markdown",
   "metadata": {},
   "source": [
    "The two keys of interest are **eegrec** and **time** which correspond to all time points of the recording and the voltage recording itself. Let's extract them and store them in seperate variables:"
   ]
  },
  {
   "cell_type": "code",
   "execution_count": null,
   "metadata": {},
   "outputs": [],
   "source": [
    "time = matfile['time'][0]\n",
    "time.shape # look at the dimension of the time variable"
   ]
  },
  {
   "cell_type": "code",
   "execution_count": null,
   "metadata": {},
   "outputs": [],
   "source": [
    "eeg = matfile['eegrec'][0]\n",
    "eeg.shape"
   ]
  },
  {
   "cell_type": "markdown",
   "metadata": {},
   "source": [
    "Plot the EEG recording in time (time will be plot on x-axis and eeg on y-axis)"
   ]
  },
  {
   "cell_type": "code",
   "execution_count": null,
   "metadata": {},
   "outputs": [],
   "source": [
    "# plot the first 500 values:\n",
    "t = time[0:200]\n",
    "eeg_short = lfp[0:200]\n",
    "\n",
    "# check:\n",
    "t.shape\n",
    "\n",
    "# plot the subset:\n",
    "plt.plot(t, eeg_short)\n",
    "plt.title('subset plot')\n",
    "plt.xlabel('time in sec')\n",
    "plt.ylabel('voltage [$\\mu$ v]')\n",
    "plt.show()"
   ]
  },
  {
   "cell_type": "code",
   "execution_count": null,
   "metadata": {},
   "outputs": [],
   "source": []
  },
  {
   "cell_type": "code",
   "execution_count": null,
   "metadata": {},
   "outputs": [],
   "source": []
  }
 ],
 "metadata": {
  "kernelspec": {
   "display_name": "Python 3",
   "language": "python",
   "name": "python3"
  },
  "language_info": {
   "codemirror_mode": {
    "name": "ipython",
    "version": 3
   },
   "file_extension": ".py",
   "mimetype": "text/x-python",
   "name": "python",
   "nbconvert_exporter": "python",
   "pygments_lexer": "ipython3",
   "version": "3.7.7"
  }
 },
 "nbformat": 4,
 "nbformat_minor": 4
}
