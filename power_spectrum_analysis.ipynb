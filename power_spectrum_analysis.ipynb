{
 "cells": [
  {
   "cell_type": "markdown",
   "metadata": {},
   "source": [
    "# Power Spectrum Anlalysis \n",
    "\n",
    "In short, Power Spectrum Analysis or Power Spectral Density (PSD) is one of the standard methods used to quantify the EEG signal. **Power spectrum** reflects the frequency content (related to the activity bands introduced in the 2nd notebook), or the distribution of signal power over frequency. \n",
    "\n",
    "In this notebook you will be introduced to a few fundamental aspects of analysing EEG (or MEG) data. We will walk step-by step through more efficient ways of conducting visual inspection of the EEG, we will focus even more on the measures of spread (variance, sd, mean) and on autocovariance, we will learn about the spectral density (or power spectrum), about the Fourier Transform and more."
   ]
  },
  {
   "cell_type": "code",
   "execution_count": 1,
   "metadata": {},
   "outputs": [],
   "source": [
    "# Load the libraries\n",
    "import os\n",
    "import scipy as sp\n",
    "import numpy as np\n",
    "from pylab import *\n",
    "from numpy import sqrt, where\n",
    "from numpy.fft import fft, rfft\n",
    "from scipy.signal import spectrogram \n",
    "from scipy.io import loadmat\n",
    "import matplotlib.pyplot as plt\n",
    "\n",
    "%matplotlib inline "
   ]
  },
  {
   "cell_type": "markdown",
   "metadata": {},
   "source": [
    "## Quick overview of the notebook\n",
    "\n",
    "In the next block of code, we will quickly run an analysis to introduce you to the core concept of the content of this notebook. Before moving to the more details parts that come next, please make sure to play around with the code of the overview and make sure you understand all the aspects. In my experience, understanding the EEG signal can be difficult and it will probably require effort, but if you spend some time in the beginning to comprehend all the fundamental aspects, then, when the time comes and you analyse your own data, things will be much easier."
   ]
  },
  {
   "cell_type": "code",
   "execution_count": 65,
   "metadata": {},
   "outputs": [],
   "source": [
    "# Define paths:\n",
    "root_dir = '/Users/christinadelta/Desktop/intro_to_eeg_analyses/'\n",
    "mat_dir = os.path.join(root_dir, 'data', 'my_matfiles')\n",
    "\n",
    "# define file-specific paths:\n",
    "eegfile = os.path.join(mat_dir, 'eeg.mat') # path for the eeg data file\n",
    "eegtimesfiles = os.path.join(mat_dir, 'eegtime.mat')  # path for the eeg time-points file\n",
    "\n",
    "# load the data\n",
    "eeg = loadmat(eegfile)['eeg'].reshape(-1)\n",
    "eeg_times = loadmat(eegtimesfiles)['time'][0]\n",
    "\n",
    "ti = eeg_times[1] - eeg_times[0] # define the interval between each time point\n",
    "eeglen = eeg.shape[0] # length of data matrix\n",
    "total_time = eeglen * ti # duration of the data\n",
    "\n",
    "# now moving to the more complicated functions:\n",
    "ft_eeg = fft(eeg - eeg.mean()) # run fourier transform of the eeg\n",
    "ft_eeg.shape\n",
    "\n",
    "spectrum_eeg = 2 * ti ** 2 / total_time * (ft_eeg * ft_eeg.conj()) # calculate eeg spectrum \n",
    "spectrum_eeg = spectrum_eeg[:int(len(eeg) / 2)] # remove negative frequencies-values\n",
    "\n",
    "fres = 1 / total_time.max() # frequency resolution\n",
    "fn = 1 / ti / 2 # nyquist frequency \n",
    "xx = np.arange(0, fn,fres) # this is how the frequency will be plot in the x-axis\n",
    "\n",
    "# make a plot \n",
    "plt.plot(xx, spectrum_eeg.real) # plot power spectrum vs frequency \n",
    "plt.xlim([0, 100]) # this is the frequency range\n",
    "plt.xlabel('frequency in Hz')\n",
    "plt.ylabel('Power [$\\mu V^2$/Hz]')"
   ]
  },
  {
   "cell_type": "markdown",
   "metadata": {},
   "source": [
    "Play with the code above and try to understand it.\n",
    "* Do you understand how the data is loaded?\n",
    "* Do you understand what the ```.reshape()``` function does?\n",
    "* Do you understand how we compute the power spectrum and the rest? \n",
    "\n",
    "In the next blocks We we see all the above in detail, step by step."
   ]
  },
  {
   "cell_type": "code",
   "execution_count": null,
   "metadata": {},
   "outputs": [],
   "source": []
  },
  {
   "cell_type": "code",
   "execution_count": null,
   "metadata": {},
   "outputs": [],
   "source": []
  },
  {
   "cell_type": "code",
   "execution_count": null,
   "metadata": {},
   "outputs": [],
   "source": []
  }
 ],
 "metadata": {
  "kernelspec": {
   "display_name": "Python 3",
   "language": "python",
   "name": "python3"
  },
  "language_info": {
   "codemirror_mode": {
    "name": "ipython",
    "version": 3
   },
   "file_extension": ".py",
   "mimetype": "text/x-python",
   "name": "python",
   "nbconvert_exporter": "python",
   "pygments_lexer": "ipython3",
   "version": "3.7.7"
  }
 },
 "nbformat": 4,
 "nbformat_minor": 4
}
